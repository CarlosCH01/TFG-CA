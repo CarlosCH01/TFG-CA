{
 "cells": [
  {
   "cell_type": "code",
   "execution_count": 1,
   "metadata": {},
   "outputs": [],
   "source": [
    "# General imports to do graphs and mathematics sequeces\n",
    "\n",
    "# Data Analysis\n",
    "import pandas as pd\n",
    "# Scientific computing\n",
    "import numpy as np\n",
    "# Creating static, animated, and interactive visualizations\n",
    "import matplotlib.pylab as plt\n",
    "# To do graphics and statical data visualization \n",
    "import seaborn as sns\n",
    "\n",
    "# Used to list all the audios we'll use \n",
    "from glob import glob\n",
    "\n",
    "# Imports to work with audio \n",
    "import librosa\n",
    "\n",
    "# To display the audio that we want to analyze\n",
    "import librosa.display\n",
    "import IPython.display as ipd\n",
    "\n",
    "# #copy pasted code for colors no impact on implementation whatsoever\n",
    "from itertools import cycle\n",
    "\n",
    "# Change visual theme of all plots\n",
    "sns.set_theme(style=\"white\", palette=None)\n",
    "color_pal = plt.rcParams[\"axes.prop_cycle\"].by_key()[\"color\"]\n",
    "color_cycle = cycle(plt.rcParams[\"axes.prop_cycle\"].by_key()[\"color\"])\n",
    "\n",
    "# List of all audios about actor 1 in this case\n",
    "audio_files = glob('./dataset_audio/Actor_01/*.wav')\n",
    "\n",
    "# Play audio from the list we can do a iterative loop on audio_file\n",
    "# I only set the first one to test it\n",
    "ipd.Audio(audio_files[0])"
   ]
  },
  {
   "cell_type": "code",
   "execution_count": null,
   "metadata": {},
   "outputs": [
    {
     "name": "stdout",
     "output_type": "stream",
     "text": [
      "y: [ 1.6517616e-08 -6.5464434e-08  1.2522355e-07 ...  0.0000000e+00\n",
      "  0.0000000e+00  0.0000000e+00]\n",
      "shape y: (72838,)\n",
      "sr: 22050\n"
     ]
    }
   ],
   "source": [
    "# Load this file to work with this audio, in the future we can do a loop to load \n",
    "# every tracks\n",
    "'''\n",
    "y : np.ndarray [shape=(n,) or (..., n)]\n",
    "    y is will be used to draw the graphic in the axis y \n",
    "sr : number > 0 [scalar]\n",
    "    sr is the sample rate to know the length of the audio \n",
    "    \n",
    "'''\n",
    "\n",
    "y, sr = librosa.load(audio_files[0])\n",
    "\n",
    "print(f'y: {y}')\n",
    "print(f'shape y: {y.shape}') # This is the shape of the track\n",
    "print(f'sr: {sr}')"
   ]
  },
  {
   "cell_type": "code",
   "execution_count": null,
   "metadata": {},
   "outputs": [],
   "source": [
    "# To paint the plot, we are goint to change numpy array into panda's serie\n",
    "# Figsize is used to resize the image as we want\n",
    "pd.Series(y).plot(figsize=(10,5),title='Raw plot audio',lw=1,color=color_pal[7])\n",
    "plt.show()"
   ]
  }
 ],
 "metadata": {
  "kernelspec": {
   "display_name": "Python 3.10.0 64-bit",
   "language": "python",
   "name": "python3"
  },
  "language_info": {
   "codemirror_mode": {
    "name": "ipython",
    "version": 3
   },
   "file_extension": ".py",
   "mimetype": "text/x-python",
   "name": "python",
   "nbconvert_exporter": "python",
   "pygments_lexer": "ipython3",
   "version": "3.10.0"
  },
  "orig_nbformat": 4,
  "vscode": {
   "interpreter": {
    "hash": "369f2c481f4da34e4445cda3fffd2e751bd1c4d706f27375911949ba6bb62e1c"
   }
  }
 },
 "nbformat": 4,
 "nbformat_minor": 2
}
