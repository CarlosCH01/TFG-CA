{
 "cells": [
  {
   "cell_type": "code",
   "execution_count": null,
   "metadata": {},
   "outputs": [],
   "source": [
    "# General imports to do graphs and mathematics sequeces\n",
    "\n",
    "# Data Analysis\n",
    "import pandas as pd\n",
    "# Scientific computing\n",
    "import numpy as np\n",
    "# Creating static, animated, and interactive visualizations\n",
    "import matplotlib.pylab as plt\n",
    "# To do graphics and statical data visualization \n",
    "import seaborn as sns\n",
    "\n",
    "# Used to list all the audios we'll use \n",
    "from glob import glob\n",
    "\n",
    "# Imports to work with audio \n",
    "import librosa\n",
    "\n",
    "# To display the audio that we want to analyze\n",
    "import librosa.display\n",
    "import IPython.display as ipd\n",
    "\n",
    "# #copy pasted code for colors no impact on implementation whatsoever\n",
    "from itertools import cycle\n",
    "\n",
    "# Change visual theme of all plots\n",
    "sns.set_theme(style=\"white\", palette=None)\n",
    "color_pal = plt.rcParams[\"axes.prop_cycle\"].by_key()[\"color\"]\n",
    "color_cycle = cycle(plt.rcParams[\"axes.prop_cycle\"].by_key()[\"color\"])\n",
    "\n",
    "# List of all audios about actor 1 in this case\n",
    "audio_files = glob('./dataset_audio/Actor_01/*.wav')\n",
    "\n",
    "# Play audio from the list we can do a iterative loop on audio_file\n",
    "# I only set the first one to test it\n",
    "ipd.Audio(audio_files[0])"
   ]
  },
  {
   "cell_type": "code",
   "execution_count": null,
   "metadata": {},
   "outputs": [],
   "source": [
    "# Load this file to work with this audio, in the future we can do a loop to load \n",
    "# every tracks\n",
    "'''\n",
    "y : np.ndarray [shape=(n,) or (..., n)]\n",
    "    y is will be used to draw the graphic in the axis y \n",
    "sr : number > 0 [scalar]\n",
    "    sr is the sample rate to know the length of the audio \n",
    "    \n",
    "'''\n",
    "\n",
    "y, sr = librosa.load(audio_files[0])\n",
    "\n",
    "print(f'y: {y}')\n",
    "print(f'shape y: {y.shape}') # This is the shape of the track\n",
    "print(f'sr: {sr}')"
   ]
  },
  {
   "cell_type": "code",
   "execution_count": null,
   "metadata": {},
   "outputs": [],
   "source": [
    "# To paint the plot, we are goint to change numpy array into panda's serie\n",
    "# Figsize is used to resize the image as we want\n",
    "pd.Series(y).plot(figsize=(10,5),title='Raw plot audio',lw=1,color=color_pal[7])\n",
    "plt.show()"
   ]
  },
  {
   "cell_type": "code",
   "execution_count": null,
   "metadata": {},
   "outputs": [],
   "source": [
    "'''In our graph we can see, there is silence at the beginning and \n",
    "at the end of the sample, so we use the method trim from librosa \n",
    "to remove that silence'''\n",
    "\n",
    "# we are going to use only the first returned, because the second one only\n",
    "# gives information about the range without silence\n",
    "y_trimmed , _ = librosa.effects.trim(y) \n",
    "\n",
    "# Plot again without silence\n",
    "pd.Series(y_trimmed).plot(figsize=(10,5),title='Raw plot without silence',lw=1)\n",
    "plt.show()"
   ]
  },
  {
   "cell_type": "code",
   "execution_count": null,
   "metadata": {},
   "outputs": [],
   "source": [
    "'''We can trim our audio data, in top_db is considered everything lower than that db as silence\n",
    "it used the same function from librosa, but adding new parameters'''\n",
    "\n",
    "y_trimmed , _ = librosa.effects.trim(y,top_db=20)\n",
    "\n",
    "pd.Series(y_trimmed).plot(figsize=(10,5), \n",
    "                 lw =1,\n",
    "                 title = 'Raw Audio Trimmed Data',\n",
    "                 color = color_pal[1])\n",
    "\n",
    "plt.show()"
   ]
  }
 ],
 "metadata": {
  "kernelspec": {
   "display_name": "Python 3.8.10 64-bit (microsoft store)",
   "language": "python",
   "name": "python3"
  },
  "language_info": {
   "codemirror_mode": {
    "name": "ipython",
    "version": 3
   },
   "file_extension": ".py",
   "mimetype": "text/x-python",
   "name": "python",
   "nbconvert_exporter": "python",
   "pygments_lexer": "ipython3",
   "version": "3.8.10"
  },
  "orig_nbformat": 4,
  "vscode": {
   "interpreter": {
    "hash": "08e7826442deeca1c75e4c659c31d4f7764950a38c365f28f721675b7bc44070"
   }
  }
 },
 "nbformat": 4,
 "nbformat_minor": 2
}
