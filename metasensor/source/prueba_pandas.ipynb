{
 "cells": [
  {
   "cell_type": "code",
   "execution_count": 2,
   "metadata": {},
   "outputs": [],
   "source": [
    "import pandas as pd\n",
    "import numpy as np"
   ]
  },
  {
   "cell_type": "code",
   "execution_count": 6,
   "metadata": {},
   "outputs": [],
   "source": [
    "data = [[1673000662043, np.nan, np.nan, np.nan, np.nan, np.nan, np.nan, -47.5625, -97.1875, -17.0, 'SGN'],\n",
    "[1673000662051, np.nan, np.nan, np.nan, -0.3659, 2.561, 1.8293, np.nan, np.nan, np.nan, 'SGN'],\n",
    "[1673000662058, np.nan, np.nan, np.nan, -0.9146, 2.9878, 2.439, np.nan, np.nan, np.nan, 'SGN'],\n",
    "[1673000662066, np.nan, np.nan, np.nan, -1.5244, 3.8415, 2.622, np.nan, np.nan, np.nan, 'SGN'],\n",
    "[1673000662066, np.nan, np.nan, np.nan, -1.9512, 5.122, 2.6829, np.nan, np.nan, np.nan, 'SGN'],\n",
    "[1673000662073, 0.1868, -0.0642, 0.9961, np.nan, np.nan, np.nan, np.nan, np.nan, np.nan, 'SGN'],\n",
    "[1673000662074, np.nan, np.nan, np.nan, -2.0122, 5.7317, 3.0488, np.nan, np.nan, np.nan, 'SGN'],\n",
    "[1673000662074, np.nan, np.nan, np.nan, -1.7683, 5.7927, 3.4146, np.nan, np.nan, np.nan, 'SGN'],\n",
    "[1673000662081, 0.1685, -0.0698, 1.0017, np.nan, np.nan, np.nan, np.nan, np.nan, np.nan, 'SGN'],\n",
    "[1673000662081, np.nan, np.nan, np.nan, -1.4024, 5.7317, 3.3537, np.nan, np.nan, np.nan, 'SGN'],\n",
    "[1673000662096, np.nan, np.nan, np.nan, -1.0366, 5.061, 3.1098, np.nan, np.nan, np.nan, 'SGN'],\n",
    "[1673000662096, 0.1682, -0.0703, 0.9961, np.nan, np.nan, np.nan, np.nan, np.nan, np.nan, 'SGN'],\n",
    "[1673000662097, np.nan, np.nan, np.nan, -0.3049, 4.1463, 2.8049, np.nan, np.nan, np.nan, 'SGN'],\n",
    "[1673000662103, np.nan, np.nan, np.nan, 0.0, 3.7805, 2.6829, np.nan, np.nan, np.nan, 'SGN'],\n",
    "[1673000662103, 0.1746, -0.0615, 0.9951, np.nan, np.nan, np.nan, np.nan, np.nan, np.nan, 'SGN'],\n",
    "[1673000662105, np.nan, np.nan, np.nan, 0.0, 3.4146, 2.7439, np.nan, np.nan, np.nan, 'SGN'],\n",
    "[1673000662111, np.nan, np.nan, np.nan, -0.4268, 3.4146, 2.7439, np.nan, np.nan, np.nan, 'SGN'],\n",
    "[1673000662111, 0.168, -0.0562, 0.9883, np.nan, np.nan, np.nan, np.nan, np.nan, np.nan, 'SGN'],\n",
    "[1673000662112, np.nan, np.nan, np.nan, -0.6098, 3.1707, 2.8049, np.nan, np.nan, np.nan, 'SGN'],\n",
    "[1673000662118, np.nan, np.nan, np.nan, -0.6098, 3.0488, 2.8049, np.nan, np.nan, np.nan, 'SGN']]"
   ]
  },
  {
   "cell_type": "code",
   "execution_count": 59,
   "metadata": {},
   "outputs": [],
   "source": [
    "df = pd.DataFrame(data, columns=(\"TIMESTAMP\",\"ACCX\",\"ACCY\",\"ACCZ\",\"GYRX\",\"GYRY\",\"GYRZ\",\"MAGX\",\"MAGY\",\"MAGZ\",\"UID\"))\n",
    "df.set_index(\"TIMESTAMP\", inplace=True)\n"
   ]
  },
  {
   "cell_type": "code",
   "execution_count": 34,
   "metadata": {},
   "outputs": [],
   "source": [
    "cols = (\"TIMESTAMP\",\"ACCX_MEAN\",\"ACCY_MEAN\",\"ACCZ_MEAN\",\"GYRX_MEAN\",\"GYRY_MEAN\",\"GYRZ_MEAN\",\"MAGX_MEAN\",\"MAGY_MEAN\",\"MAGZ_MEAN\",\"ACCX_STD\",\"ACCY_STD\",\"ACCZ_STD\",\"GYRX_STD\",\"GYRY_STD\",\"GYRZ_STD\",\"MAGX_STD\",\"MAGY_STD\",\"MAGZ_STD\")"
   ]
  },
  {
   "cell_type": "code",
   "execution_count": 60,
   "metadata": {},
   "outputs": [],
   "source": [
    "means = df.mean(numeric_only=True).to_list()\n",
    "stds = df.std(numeric_only=True).to_list()"
   ]
  },
  {
   "cell_type": "code",
   "execution_count": 63,
   "metadata": {},
   "outputs": [
    {
     "data": {
      "text/plain": [
       "[0.17321999999999999,\n",
       " -0.06439999999999999,\n",
       " 0.9954599999999999,\n",
       " -0.92335,\n",
       " 4.128921428571429,\n",
       " 2.791821428571429,\n",
       " -47.5625,\n",
       " -97.1875,\n",
       " -17.0,\n",
       " 0.008078489957906733,\n",
       " 0.005908891605030508,\n",
       " 0.004773677827419887,\n",
       " 0.7017140023926031,\n",
       " 1.1378502018337855,\n",
       " 0.39019843507664626,\n",
       " nan,\n",
       " nan,\n",
       " nan,\n",
       " 0.008078489957906733,\n",
       " 0.005908891605030508,\n",
       " 0.004773677827419887,\n",
       " 0.7017140023926031,\n",
       " 1.1378502018337855,\n",
       " 0.39019843507664626,\n",
       " nan,\n",
       " nan,\n",
       " nan,\n",
       " 0.008078489957906733,\n",
       " 0.005908891605030508,\n",
       " 0.004773677827419887,\n",
       " 0.7017140023926031,\n",
       " 1.1378502018337855,\n",
       " 0.39019843507664626,\n",
       " nan,\n",
       " nan,\n",
       " nan]"
      ]
     },
     "execution_count": 63,
     "metadata": {},
     "output_type": "execute_result"
    }
   ],
   "source": [
    "means.extend(stds)\n",
    "means"
   ]
  }
 ],
 "metadata": {
  "kernelspec": {
   "display_name": "Python 3",
   "language": "python",
   "name": "python3"
  },
  "language_info": {
   "codemirror_mode": {
    "name": "ipython",
    "version": 3
   },
   "file_extension": ".py",
   "mimetype": "text/x-python",
   "name": "python",
   "nbconvert_exporter": "python",
   "pygments_lexer": "ipython3",
   "version": "3.8.10"
  },
  "orig_nbformat": 4,
  "vscode": {
   "interpreter": {
    "hash": "e7370f93d1d0cde622a1f8e1c04877d8463912d04d973331ad4851f04de6915a"
   }
  }
 },
 "nbformat": 4,
 "nbformat_minor": 2
}
